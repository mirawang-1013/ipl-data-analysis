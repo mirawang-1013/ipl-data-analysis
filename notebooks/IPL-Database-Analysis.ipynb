{
 "cells": [
  {
   "cell_type": "code",
   "execution_count": 0,
   "metadata": {
    "application/vnd.databricks.v1+cell": {
     "cellMetadata": {
      "byteLimit": 2048000,
      "rowLimit": 10000
     },
     "inputWidgets": {},
     "nuid": "30ecc814-1ac9-449d-98b5-fdf38eac1666",
     "showTitle": false,
     "tableResultSettingsMap": {},
     "title": ""
    }
   },
   "outputs": [
    {
     "output_type": "execute_result",
     "data": {
      "text/html": [
       "\n",
       "            <div>\n",
       "                <p><b>SparkSession - hive</b></p>\n",
       "                \n",
       "        <div>\n",
       "            <p><b>SparkContext</b></p>\n",
       "\n",
       "            <p><a href=\"/?o=2823662459285102#setting/sparkui/1231-080524-kufp2l6w/driver-7188676108802717683\">Spark UI</a></p>\n",
       "\n",
       "            <dl>\n",
       "              <dt>Version</dt>\n",
       "                <dd><code>v3.5.2</code></dd>\n",
       "              <dt>Master</dt>\n",
       "                <dd><code>local[*, 4]</code></dd>\n",
       "              <dt>AppName</dt>\n",
       "                <dd><code>Databricks Shell</code></dd>\n",
       "            </dl>\n",
       "        </div>\n",
       "        \n",
       "            </div>\n",
       "        "
      ],
      "text/plain": [
       "<pyspark.sql.session.SparkSession at 0x7fc1941ee240>"
      ]
     },
     "execution_count": 1,
     "metadata": {},
     "output_type": "execute_result"
    }
   ],
   "source": [
    "spark"
   ]
  },
  {
   "cell_type": "code",
   "execution_count": 0,
   "metadata": {
    "application/vnd.databricks.v1+cell": {
     "cellMetadata": {
      "byteLimit": 2048000,
      "rowLimit": 10000
     },
     "inputWidgets": {},
     "nuid": "bed75eec-4aac-4c35-b297-47c4c69358bc",
     "showTitle": false,
     "tableResultSettingsMap": {},
     "title": ""
    }
   },
   "outputs": [],
   "source": [
    "from pyspark.sql.types import StructField, StructType, IntegerType, StringType, BooleanType, DateType, DecimalType\n",
    "from pyspark.sql.functions import col, when, sum, avg, row_number \n",
    "from pyspark.sql.window import Window\n",
    "import matplotlib.pyplot as plt"
   ]
  },
  {
   "cell_type": "code",
   "execution_count": 0,
   "metadata": {
    "application/vnd.databricks.v1+cell": {
     "cellMetadata": {
      "byteLimit": 2048000,
      "rowLimit": 10000
     },
     "inputWidgets": {},
     "nuid": "cac906f6-d421-43ee-b859-d6e03a9a3317",
     "showTitle": false,
     "tableResultSettingsMap": {},
     "title": ""
    }
   },
   "outputs": [],
   "source": [
    "from pyspark.sql import SparkSession \n",
    "\n",
    "#create session\n",
    "spark = SparkSession.builder.appName(\"IPL Data Analysis\").getOrCreate()"
   ]
  },
  {
   "cell_type": "code",
   "execution_count": 0,
   "metadata": {
    "application/vnd.databricks.v1+cell": {
     "cellMetadata": {
      "byteLimit": 2048000,
      "rowLimit": 10000
     },
     "inputWidgets": {},
     "nuid": "f0bc220b-bdad-436b-87a6-e30bec8ac0c7",
     "showTitle": false,
     "tableResultSettingsMap": {},
     "title": ""
    }
   },
   "outputs": [
    {
     "output_type": "execute_result",
     "data": {
      "text/html": [
       "\n",
       "            <div>\n",
       "                <p><b>SparkSession - hive</b></p>\n",
       "                \n",
       "        <div>\n",
       "            <p><b>SparkContext</b></p>\n",
       "\n",
       "            <p><a href=\"/?o=2823662459285102#setting/sparkui/1231-080524-kufp2l6w/driver-7188676108802717683\">Spark UI</a></p>\n",
       "\n",
       "            <dl>\n",
       "              <dt>Version</dt>\n",
       "                <dd><code>v3.5.2</code></dd>\n",
       "              <dt>Master</dt>\n",
       "                <dd><code>local[*, 4]</code></dd>\n",
       "              <dt>AppName</dt>\n",
       "                <dd><code>Databricks Shell</code></dd>\n",
       "            </dl>\n",
       "        </div>\n",
       "        \n",
       "            </div>\n",
       "        "
      ],
      "text/plain": [
       "<pyspark.sql.session.SparkSession at 0x7fc1941ee240>"
      ]
     },
     "execution_count": 6,
     "metadata": {},
     "output_type": "execute_result"
    }
   ],
   "source": [
    "spark"
   ]
  },
  {
   "cell_type": "code",
   "execution_count": 0,
   "metadata": {
    "application/vnd.databricks.v1+cell": {
     "cellMetadata": {
      "byteLimit": 2048000,
      "rowLimit": 10000
     },
     "inputWidgets": {},
     "nuid": "0d158f11-5ee7-4a48-923f-4172ed0f5fd8",
     "showTitle": false,
     "tableResultSettingsMap": {},
     "title": ""
    }
   },
   "outputs": [],
   "source": [
    "ball_by_ball_schema = StructType([\n",
    "    StructField(\"match_id\", IntegerType(), True),\n",
    "    StructField(\"over_id\", IntegerType(), True),\n",
    "    StructField(\"ball_id\", IntegerType(), True),\n",
    "    StructField(\"innings_no\", IntegerType(), True),\n",
    "    StructField(\"team_batting\", StringType(), True),\n",
    "    StructField(\"team_bowling\", StringType(), True),\n",
    "    StructField(\"striker_batting_position\", IntegerType(), True),\n",
    "    StructField(\"extra_type\", StringType(), True),\n",
    "    StructField(\"runs_scored\", IntegerType(), True),\n",
    "    StructField(\"extra_runs\", IntegerType(), True),\n",
    "    StructField(\"wides\", IntegerType(), True),\n",
    "    StructField(\"legbyes\", IntegerType(), True),\n",
    "    StructField(\"byes\", IntegerType(), True),\n",
    "    StructField(\"noballs\", IntegerType(), True),\n",
    "    StructField(\"penalty\", IntegerType(), True),\n",
    "    StructField(\"bowler_extras\", IntegerType(), True),\n",
    "    StructField(\"out_type\", StringType(), True),\n",
    "    StructField(\"caught\", BooleanType(), True),\n",
    "    StructField(\"bowled\", BooleanType(), True),\n",
    "    StructField(\"run_out\", BooleanType(), True),\n",
    "    StructField(\"lbw\", BooleanType(), True),\n",
    "    StructField(\"retired_hurt\", BooleanType(), True),\n",
    "    StructField(\"stumped\", BooleanType(), True),\n",
    "    StructField(\"caught_and_bowled\", BooleanType(), True),\n",
    "    StructField(\"hit_wicket\", BooleanType(), True),\n",
    "    StructField(\"obstructingfeild\", BooleanType(), True),\n",
    "    StructField(\"bowler_wicket\", BooleanType(), True),\n",
    "    StructField(\"match_date\", DateType(), True),\n",
    "    StructField(\"season\", IntegerType(), True),\n",
    "    StructField(\"striker\", IntegerType(), True),\n",
    "    StructField(\"non_striker\", IntegerType(), True),\n",
    "    StructField(\"bowler\", IntegerType(), True),\n",
    "    StructField(\"player_out\", IntegerType(), True),\n",
    "    StructField(\"fielders\", IntegerType(), True),\n",
    "    StructField(\"striker_match_sk\", IntegerType(), True),\n",
    "    StructField(\"strikersk\", IntegerType(), True),\n",
    "    StructField(\"nonstriker_match_sk\", IntegerType(), True),\n",
    "    StructField(\"nonstriker_sk\", IntegerType(), True),\n",
    "    StructField(\"fielder_match_sk\", IntegerType(), True),\n",
    "    StructField(\"fielder_sk\", IntegerType(), True),\n",
    "    StructField(\"bowler_match_sk\", IntegerType(), True),\n",
    "    StructField(\"bowler_sk\", IntegerType(), True),\n",
    "    StructField(\"playerout_match_sk\", IntegerType(), True),\n",
    "    StructField(\"battingteam_sk\", IntegerType(), True),\n",
    "    StructField(\"bowlingteam_sk\", IntegerType(), True),\n",
    "    StructField(\"keeper_catch\", BooleanType(), True),\n",
    "    StructField(\"player_out_sk\", IntegerType(), True),\n",
    "    StructField(\"matchdatesk\", DateType(), True)\n",
    "])\n",
    "     "
   ]
  },
  {
   "cell_type": "code",
   "execution_count": 0,
   "metadata": {
    "application/vnd.databricks.v1+cell": {
     "cellMetadata": {
      "byteLimit": 2048000,
      "rowLimit": 10000
     },
     "inputWidgets": {},
     "nuid": "beb82335-c433-4ddf-93ec-18f22d882bb0",
     "showTitle": false,
     "tableResultSettingsMap": {},
     "title": ""
    }
   },
   "outputs": [],
   "source": [
    "ball_by_ball_df = spark.read.format(\"csv\").option(\"header\",\"true\").option(\"inferSchema\",\"true\").load(\"s3://ipl-data-analysis-project/Ball_By_Ball.csv\")"
   ]
  },
  {
   "cell_type": "code",
   "execution_count": 0,
   "metadata": {
    "application/vnd.databricks.v1+cell": {
     "cellMetadata": {
      "byteLimit": 2048000,
      "rowLimit": 10000
     },
     "inputWidgets": {},
     "nuid": "b5429524-114c-4d6e-8a62-f8a30186d91c",
     "showTitle": false,
     "tableResultSettingsMap": {},
     "title": ""
    }
   },
   "outputs": [],
   "source": [
    "ball_by_ball_df = spark.read.schema(ball_by_ball_schema).format(\"csv\").option(\"header\",\"true\").load(\"s3://ipl-data-analysis-project/Ball_By_Ball.csv\")\n",
    "     "
   ]
  },
  {
   "cell_type": "code",
   "execution_count": 0,
   "metadata": {
    "application/vnd.databricks.v1+cell": {
     "cellMetadata": {
      "byteLimit": 2048000,
      "rowLimit": 10000
     },
     "inputWidgets": {},
     "nuid": "983f2704-90c4-4416-a360-0ae3b89bd7c1",
     "showTitle": false,
     "tableResultSettingsMap": {},
     "title": ""
    }
   },
   "outputs": [
    {
     "output_type": "stream",
     "name": "stdout",
     "output_type": "stream",
     "text": [
      "+--------+-------+-------+----------+------------+------------+------------------------+----------+-----------+----------+-----+-------+----+-------+-------+-------------+--------------+------+------+-------+----+------------+-------+-----------------+----------+----------------+-------------+----------+------+-------+-----------+------+----------+--------+----------------+---------+-------------------+-------------+----------------+----------+---------------+---------+------------------+--------------+--------------+------------+-------------+-----------+\n|match_id|over_id|ball_id|innings_no|team_batting|team_bowling|striker_batting_position|extra_type|runs_scored|extra_runs|wides|legbyes|byes|noballs|penalty|bowler_extras|      out_type|caught|bowled|run_out| lbw|retired_hurt|stumped|caught_and_bowled|hit_wicket|obstructingfeild|bowler_wicket|match_date|season|striker|non_striker|bowler|player_out|fielders|striker_match_sk|strikersk|nonstriker_match_sk|nonstriker_sk|fielder_match_sk|fielder_sk|bowler_match_sk|bowler_sk|playerout_match_sk|battingteam_sk|bowlingteam_sk|keeper_catch|player_out_sk|matchdatesk|\n+--------+-------+-------+----------+------------+------------+------------------------+----------+-----------+----------+-----+-------+----+-------+-------+-------------+--------------+------+------+-------+----+------------+-------+-----------------+----------+----------------+-------------+----------+------+-------+-----------+------+----------+--------+----------------+---------+-------------------+-------------+----------------+----------+---------------+---------+------------------+--------------+--------------+------------+-------------+-----------+\n|  598028|     15|      6|         1|           5|           2|                       6| No Extras|          4|         0|    0|      0|   0|      0|      0|            0|Not Applicable|  NULL|  NULL|   NULL|NULL|        NULL|   NULL|             NULL|      NULL|            NULL|         NULL|      NULL|  2013|    277|        104|    83|      NULL|    NULL|           20336|      276|              20333|          103|              -1|        -1|          20343|       82|                -1|             4|             1|        NULL|            0|       NULL|\n|  598028|     14|      1|         1|           5|           2|                       5| No Extras|          1|         0|    0|      0|   0|      0|      0|            0|Not Applicable|  NULL|  NULL|   NULL|NULL|        NULL|   NULL|             NULL|      NULL|            NULL|         NULL|      NULL|  2013|    104|          6|   346|      NULL|    NULL|           20333|      103|              20328|            5|              -1|        -1|          20348|      345|                -1|             4|             1|        NULL|            0|       NULL|\n|  598028|     14|      2|         1|           5|           2|                       3| No Extras|          1|         0|    0|      0|   0|      0|      0|            0|Not Applicable|  NULL|  NULL|   NULL|NULL|        NULL|   NULL|             NULL|      NULL|            NULL|         NULL|      NULL|  2013|      6|        104|   346|      NULL|    NULL|           20328|        5|              20333|          103|              -1|        -1|          20348|      345|                -1|             4|             1|        NULL|            0|       NULL|\n|  598028|     14|      3|         1|           5|           2|                       5| No Extras|          1|         0|    0|      0|   0|      0|      0|            0|Not Applicable|  NULL|  NULL|   NULL|NULL|        NULL|   NULL|             NULL|      NULL|            NULL|         NULL|      NULL|  2013|    104|          6|   346|      NULL|    NULL|           20333|      103|              20328|            5|              -1|        -1|          20348|      345|                -1|             4|             1|        NULL|            0|       NULL|\n|  598028|     14|      4|         1|           5|           2|                       3| No Extras|          0|         0|    0|      0|   0|      0|      0|            0|Not Applicable|  NULL|  NULL|   NULL|NULL|        NULL|   NULL|             NULL|      NULL|            NULL|         NULL|      NULL|  2013|      6|        104|   346|      NULL|    NULL|           20328|        5|              20333|          103|              -1|        -1|          20348|      345|                -1|             4|             1|        NULL|            0|       NULL|\n+--------+-------+-------+----------+------------+------------+------------------------+----------+-----------+----------+-----+-------+----+-------+-------+-------------+--------------+------+------+-------+----+------------+-------+-----------------+----------+----------------+-------------+----------+------+-------+-----------+------+----------+--------+----------------+---------+-------------------+-------------+----------------+----------+---------------+---------+------------------+--------------+--------------+------------+-------------+-----------+\nonly showing top 5 rows\n"
     ]
    }
   ],
   "source": [
    "ball_by_ball_df.show(5)"
   ]
  },
  {
   "cell_type": "code",
   "execution_count": 0,
   "metadata": {
    "application/vnd.databricks.v1+cell": {
     "cellMetadata": {
      "byteLimit": 2048000,
      "rowLimit": 10000
     },
     "inputWidgets": {},
     "nuid": "230074aa-12ca-427a-95f9-fe05336e7955",
     "showTitle": false,
     "tableResultSettingsMap": {},
     "title": ""
    }
   },
   "outputs": [],
   "source": [
    "match_schema = StructType([\n",
    "    StructField(\"match_sk\", IntegerType(), True),\n",
    "    StructField(\"match_id\", IntegerType(), True),\n",
    "    StructField(\"team1\", StringType(), True),\n",
    "    StructField(\"team2\", StringType(), True),\n",
    "    StructField(\"match_date\", DateType(), True),\n",
    "    StructField(\"season_year\", IntegerType(), True),\n",
    "    StructField(\"venue_name\", StringType(), True),\n",
    "    StructField(\"city_name\", StringType(), True),\n",
    "    StructField(\"country_name\", StringType(), True),\n",
    "    StructField(\"toss_winner\", StringType(), True),\n",
    "    StructField(\"match_winner\", StringType(), True),\n",
    "    StructField(\"toss_name\", StringType(), True),\n",
    "    StructField(\"win_type\", StringType(), True),\n",
    "    StructField(\"outcome_type\", StringType(), True),\n",
    "    StructField(\"manofmach\", StringType(), True),\n",
    "    StructField(\"win_margin\", IntegerType(), True),\n",
    "    StructField(\"country_id\", IntegerType(), True)\n",
    "])\n",
    "match_df = spark.read.schema(match_schema).format(\"csv\").option(\"header\",\"true\").load(\"s3://ipl-data-analysis-project/Match.csv\")\n",
    "\n",
    "     \n"
   ]
  },
  {
   "cell_type": "code",
   "execution_count": 0,
   "metadata": {
    "application/vnd.databricks.v1+cell": {
     "cellMetadata": {
      "byteLimit": 2048000,
      "rowLimit": 10000
     },
     "inputWidgets": {},
     "nuid": "537ee778-85f4-4f33-aaed-4163c1612dc1",
     "showTitle": false,
     "tableResultSettingsMap": {},
     "title": ""
    }
   },
   "outputs": [],
   "source": [
    "\n",
    "player_schema = StructType([\n",
    "    StructField(\"player_sk\", IntegerType(), True),\n",
    "    StructField(\"player_id\", IntegerType(), True),\n",
    "    StructField(\"player_name\", StringType(), True),\n",
    "    StructField(\"dob\", DateType(), True),\n",
    "    StructField(\"batting_hand\", StringType(), True),\n",
    "    StructField(\"bowling_skill\", StringType(), True),\n",
    "    StructField(\"country_name\", StringType(), True)\n",
    "])\n",
    "\n",
    "player_df = spark.read.schema(player_schema).format(\"csv\").option(\"header\",\"true\").load(\"s3://ipl-data-analysis-project/Player.csv\")\n",
    "\n",
    "     "
   ]
  },
  {
   "cell_type": "code",
   "execution_count": 0,
   "metadata": {
    "application/vnd.databricks.v1+cell": {
     "cellMetadata": {
      "byteLimit": 2048000,
      "rowLimit": 10000
     },
     "inputWidgets": {},
     "nuid": "2efdbed3-cd6d-4bbd-80e7-03522cb8d9eb",
     "showTitle": false,
     "tableResultSettingsMap": {},
     "title": ""
    }
   },
   "outputs": [],
   "source": [
    "player_match_schema = StructType([\n",
    "    StructField(\"player_match_sk\", IntegerType(), True),\n",
    "    StructField(\"playermatch_key\", DecimalType(), True),\n",
    "    StructField(\"match_id\", IntegerType(), True),\n",
    "    StructField(\"player_id\", IntegerType(), True),\n",
    "    StructField(\"player_name\", StringType(), True),\n",
    "    StructField(\"dob\", DateType(), True),\n",
    "    StructField(\"batting_hand\", StringType(), True),\n",
    "    StructField(\"bowling_skill\", StringType(), True),\n",
    "    StructField(\"country_name\", StringType(), True),\n",
    "    StructField(\"role_desc\", StringType(), True),\n",
    "    StructField(\"player_team\", StringType(), True),\n",
    "    StructField(\"opposit_team\", StringType(), True),\n",
    "    StructField(\"season_year\", IntegerType(), True),\n",
    "    StructField(\"is_manofthematch\", BooleanType(), True),\n",
    "    StructField(\"age_as_on_match\", IntegerType(), True),\n",
    "    StructField(\"isplayers_team_won\", BooleanType(), True),\n",
    "    StructField(\"batting_status\", StringType(), True),\n",
    "    StructField(\"bowling_status\", StringType(), True),\n",
    "    StructField(\"player_captain\", StringType(), True),\n",
    "    StructField(\"opposit_captain\", StringType(), True),\n",
    "    StructField(\"player_keeper\", StringType(), True),\n",
    "    StructField(\"opposit_keeper\", StringType(), True)\n",
    "])\n",
    "\n",
    "player_match_df = spark.read.schema(player_match_schema).format(\"csv\").option(\"header\",\"true\").load(\"s3://ipl-data-analysis-project/Player_match.csv\")\n",
    "\n",
    "     "
   ]
  },
  {
   "cell_type": "code",
   "execution_count": 0,
   "metadata": {
    "application/vnd.databricks.v1+cell": {
     "cellMetadata": {
      "byteLimit": 2048000,
      "rowLimit": 10000
     },
     "inputWidgets": {},
     "nuid": "39e2616c-c082-40a1-89d9-bce227c14c83",
     "showTitle": false,
     "tableResultSettingsMap": {},
     "title": ""
    }
   },
   "outputs": [],
   "source": [
    "team_schema = StructType([\n",
    "    StructField(\"team_sk\", IntegerType(), True),\n",
    "    StructField(\"team_id\", IntegerType(), True),\n",
    "    StructField(\"team_name\", StringType(), True)\n",
    "])\n",
    "\n",
    "team_df = spark.read.schema(team_schema).format(\"csv\").option(\"header\",\"true\").load(\"s3://ipl-data-analysis-project/Team.csv\")\n",
    "     "
   ]
  },
  {
   "cell_type": "code",
   "execution_count": 0,
   "metadata": {
    "application/vnd.databricks.v1+cell": {
     "cellMetadata": {
      "byteLimit": 2048000,
      "rowLimit": 10000
     },
     "inputWidgets": {},
     "nuid": "daac8363-afd1-4823-a93a-5503bce853e7",
     "showTitle": false,
     "tableResultSettingsMap": {},
     "title": ""
    }
   },
   "outputs": [],
   "source": [
    "#filter to include only valid deliveries \n",
    "ball_by_ball_df = ball_by_ball_df.filter((col(\"wides\") == 0) & (col(\"noballs\")==0))\n",
    "\n",
    "#Aggregation: Calculate the total and average runs scored in each match and inning\n",
    "total_and_avg_runs = ball_by_ball_df.groupBy(\"match_id\",\"innings_no\").agg(\n",
    "    sum(\"runs_scored\").alias(\"total_runs\"),\n",
    "    avg(\"runs_scored\").alias(\"avg_runs\")\n",
    ")"
   ]
  },
  {
   "cell_type": "code",
   "execution_count": 0,
   "metadata": {
    "application/vnd.databricks.v1+cell": {
     "cellMetadata": {
      "byteLimit": 2048000,
      "rowLimit": 10000
     },
     "inputWidgets": {},
     "nuid": "12d4fa84-df52-4f61-9112-95188ef17ece",
     "showTitle": false,
     "tableResultSettingsMap": {},
     "title": ""
    }
   },
   "outputs": [],
   "source": [
    "windowSpec = Window.partitionBy(\"match_id\",\"innings_no\").orderBy(\"over_id\")\n",
    "\n",
    "ball_by_ball_df = ball_by_ball_df.withColumn(\"running_total_runs\", sum(\"runs_scored\").over(windowSpec))"
   ]
  },
  {
   "cell_type": "code",
   "execution_count": 0,
   "metadata": {
    "application/vnd.databricks.v1+cell": {
     "cellMetadata": {
      "byteLimit": 2048000,
      "rowLimit": 10000
     },
     "inputWidgets": {},
     "nuid": "dca99ba8-3fd7-4f3d-8d6f-17b0b299fb08",
     "showTitle": false,
     "tableResultSettingsMap": {},
     "title": ""
    }
   },
   "outputs": [],
   "source": [
    "ball_by_ball_df = ball_by_ball_df.withColumn(\n",
    "    \"high_impact\",\n",
    "    when((col(\"runs_scored\")+col(\"extra_runs\")>6) | (col(\"bowler_wicket\") == True), True).otherwise(False)\n",
    ")"
   ]
  },
  {
   "cell_type": "code",
   "execution_count": 0,
   "metadata": {
    "application/vnd.databricks.v1+cell": {
     "cellMetadata": {
      "byteLimit": 2048000,
      "rowLimit": 10000
     },
     "inputWidgets": {},
     "nuid": "73fa991b-74eb-42c9-9b24-c172d7bfd631",
     "showTitle": false,
     "tableResultSettingsMap": {},
     "title": ""
    }
   },
   "outputs": [
    {
     "output_type": "stream",
     "name": "stdout",
     "output_type": "stream",
     "text": [
      "+--------+-------+-------+----------+------------+------------+------------------------+----------+-----------+----------+-----+-------+----+-------+-------+-------------+--------------+------+------+-------+----+------------+-------+-----------------+----------+----------------+-------------+----------+------+-------+-----------+------+----------+--------+----------------+---------+-------------------+-------------+----------------+----------+---------------+---------+------------------+--------------+--------------+------------+-------------+-----------+------------------+-----------+\n|match_id|over_id|ball_id|innings_no|team_batting|team_bowling|striker_batting_position|extra_type|runs_scored|extra_runs|wides|legbyes|byes|noballs|penalty|bowler_extras|      out_type|caught|bowled|run_out| lbw|retired_hurt|stumped|caught_and_bowled|hit_wicket|obstructingfeild|bowler_wicket|match_date|season|striker|non_striker|bowler|player_out|fielders|striker_match_sk|strikersk|nonstriker_match_sk|nonstriker_sk|fielder_match_sk|fielder_sk|bowler_match_sk|bowler_sk|playerout_match_sk|battingteam_sk|bowlingteam_sk|keeper_catch|player_out_sk|matchdatesk|running_total_runs|high_impact|\n+--------+-------+-------+----------+------------+------------+------------------------+----------+-----------+----------+-----+-------+----+-------+-------+-------------+--------------+------+------+-------+----+------------+-------+-----------------+----------+----------------+-------------+----------+------+-------+-----------+------+----------+--------+----------------+---------+-------------------+-------------+----------------+----------+---------------+---------+------------------+--------------+--------------+------------+-------------+-----------+------------------+-----------+\n|  335987|      1|      1|         1|           1|           2|                       1|   legbyes|          0|         1|    0|      1|   0|      0|      0|            0|Not Applicable|  NULL|  NULL|   NULL|NULL|        NULL|   NULL|             NULL|      NULL|            NULL|         NULL|      NULL|  2008|      1|          2|    14|      NULL|    NULL|           12705|        0|              12706|            1|              -1|        -1|          12702|       13|                -1|             0|             1|        NULL|            0|       NULL|                 0|      false|\n|  335987|      1|      2|         1|           1|           2|                       2| No Extras|          0|         0|    0|      0|   0|      0|      0|            0|Not Applicable|  NULL|  NULL|   NULL|NULL|        NULL|   NULL|             NULL|      NULL|            NULL|         NULL|      NULL|  2008|      2|          1|    14|      NULL|    NULL|           12706|        1|              12705|            0|              -1|        -1|          12702|       13|                -1|             0|             1|        NULL|            0|       NULL|                 0|      false|\n|  335987|      1|      4|         1|           1|           2|                       2| No Extras|          0|         0|    0|      0|   0|      0|      0|            0|Not Applicable|  NULL|  NULL|   NULL|NULL|        NULL|   NULL|             NULL|      NULL|            NULL|         NULL|      NULL|  2008|      2|          1|    14|      NULL|    NULL|           12706|        1|              12705|            0|              -1|        -1|          12702|       13|                -1|             0|             1|        NULL|            0|       NULL|                 0|      false|\n|  335987|      1|      5|         1|           1|           2|                       2| No Extras|          0|         0|    0|      0|   0|      0|      0|            0|Not Applicable|  NULL|  NULL|   NULL|NULL|        NULL|   NULL|             NULL|      NULL|            NULL|         NULL|      NULL|  2008|      2|          1|    14|      NULL|    NULL|           12706|        1|              12705|            0|              -1|        -1|          12702|       13|                -1|             0|             1|        NULL|            0|       NULL|                 0|      false|\n|  335987|      1|      6|         1|           1|           2|                       2| No Extras|          0|         0|    0|      0|   0|      0|      0|            0|Not Applicable|  NULL|  NULL|   NULL|NULL|        NULL|   NULL|             NULL|      NULL|            NULL|         NULL|      NULL|  2008|      2|          1|    14|      NULL|    NULL|           12706|        1|              12705|            0|              -1|        -1|          12702|       13|                -1|             0|             1|        NULL|            0|       NULL|                 0|      false|\n+--------+-------+-------+----------+------------+------------+------------------------+----------+-----------+----------+-----+-------+----+-------+-------+-------------+--------------+------+------+-------+----+------------+-------+-----------------+----------+----------------+-------------+----------+------+-------+-----------+------+----------+--------+----------------+---------+-------------------+-------------+----------------+----------+---------------+---------+------------------+--------------+--------------+------------+-------------+-----------+------------------+-----------+\nonly showing top 5 rows\n"
     ]
    }
   ],
   "source": [
    "ball_by_ball_df.show(5)"
   ]
  },
  {
   "cell_type": "code",
   "execution_count": 0,
   "metadata": {
    "application/vnd.databricks.v1+cell": {
     "cellMetadata": {
      "byteLimit": 2048000,
      "rowLimit": 10000
     },
     "inputWidgets": {},
     "nuid": "fb7412ed-bfba-4238-b21d-81b488610f41",
     "showTitle": false,
     "tableResultSettingsMap": {},
     "title": ""
    }
   },
   "outputs": [
    {
     "output_type": "stream",
     "name": "stdout",
     "output_type": "stream",
     "text": [
      "+--------+--------+--------------------+--------------------+----------+-----------+--------------------+----------+------------+--------------------+--------------------+---------+--------+------------+-----------+----------+----------+----+-----+----+-------------------+-----------------+\n|match_sk|match_id|               team1|               team2|match_date|season_year|          venue_name| city_name|country_name|         toss_winner|        match_winner|toss_name|win_type|outcome_type|  manofmach|win_margin|country_id|year|month| day|win_margin_category|toss_match_winner|\n+--------+--------+--------------------+--------------------+----------+-----------+--------------------+----------+------------+--------------------+--------------------+---------+--------+------------+-----------+----------+----------+----+-----+----+-------------------+-----------------+\n|       0|  335987|Royal Challengers...|Kolkata Knight Ri...|      NULL|       2008|M Chinnaswamy Sta...| Bangalore|       India|Royal Challengers...|Kolkata Knight Ri...|    field|    runs|      Result|BB McCullum|       140|         1|NULL| NULL|NULL|               High|               No|\n|       1|  335988|     Kings XI Punjab| Chennai Super Kings|      NULL|       2008|Punjab Cricket As...|Chandigarh|       India| Chennai Super Kings| Chennai Super Kings|      bat|    runs|      Result| MEK Hussey|        33|         1|NULL| NULL|NULL|                Low|              Yes|\n+--------+--------+--------------------+--------------------+----------+-----------+--------------------+----------+------------+--------------------+--------------------+---------+--------+------------+-----------+----------+----------+----+-----+----+-------------------+-----------------+\nonly showing top 2 rows\n"
     ]
    }
   ],
   "source": [
    "from pyspark.sql.functions import year, month, dayofmonth, when\n",
    "\n",
    "#Extracting year, month, and day from the match date for more detailed time-based analysis\n",
    "match_df = match_df.withColumn(\"year\", year(\"match_date\"))\n",
    "match_df = match_df.withColumn(\"month\", month(\"match_date\"))\n",
    "match_df = match_df.withColumn(\"day\", dayofmonth(\"match_date\"))\n",
    "\n",
    "#High margin win: categorizing win margins into \"high\",\"medium\", and \"low\"\n",
    "match_df = match_df.withColumn(\n",
    "    \"win_margin_category\",\n",
    "    when(col(\"win_margin\") >= 100, \"High\")\n",
    "    .when((col(\"win_margin\") >=50) & (col(\"win_margin\") <100), \"Medium\")\n",
    "    .otherwise(\"Low\")\n",
    "    )\n",
    "\n",
    "# Analyze the impact of the toss: who wins the toss and the match\n",
    "match_df = match_df.withColumn(\n",
    "    \"toss_match_winner\",\n",
    "    when(col(\"toss_winner\") == col(\"match_winner\"), \"Yes\").otherwise(\"No\")\n",
    ")\n",
    "\n",
    "# Show the enhanced match Dataframe\n",
    "match_df.show(2)"
   ]
  },
  {
   "cell_type": "code",
   "execution_count": 0,
   "metadata": {
    "application/vnd.databricks.v1+cell": {
     "cellMetadata": {
      "byteLimit": 2048000,
      "rowLimit": 10000
     },
     "inputWidgets": {},
     "nuid": "9c4fb669-770e-4759-95ac-a955a2e1de55",
     "showTitle": false,
     "tableResultSettingsMap": {},
     "title": ""
    }
   },
   "outputs": [
    {
     "output_type": "stream",
     "name": "stdout",
     "output_type": "stream",
     "text": [
      "+---------+---------+-----------+----+--------------+----------------+------------+-------------+\n|player_sk|player_id|player_name| dob|  batting_hand|   bowling_skill|country_name|batting_style|\n+---------+---------+-----------+----+--------------+----------------+------------+-------------+\n|        0|        1|  scganguly|NULL| Left-hand bat|Right-arm medium|       India| Right-Handed|\n|        1|        2| bbmccullum|NULL|Right-hand bat|Right-arm medium| New Zealand| Right-Handed|\n+---------+---------+-----------+----+--------------+----------------+------------+-------------+\nonly showing top 2 rows\n"
     ]
    }
   ],
   "source": [
    "from pyspark.sql.functions import lower, regexp_replace\n",
    "\n",
    "#Normalize and clean player names\n",
    "player_df = player_df.withColumn(\"player_name\", lower(regexp_replace(\"player_name\", \"[^a-zA-Z0-9]\", \"\")))\n",
    "\n",
    "#Handle missing values in 'batting_hand' and 'bowling_skill' with a default 'unknown'\n",
    "player_df = player_df.na.fill({\"batting_hand\":\"unknown\",\"bowling_skill\":\"unknown\"})\n",
    "\n",
    "#Categorizing players based on batting hand\n",
    "player_df = player_df.withColumn(\n",
    "    \"batting_style\",\n",
    "    when(col(\"batting_hand\").contains(\"left\"),\"Left_Handed\").otherwise(\"Right-Handed\")\n",
    "    )\n",
    "\n",
    "player_df.show(2)\n"
   ]
  },
  {
   "cell_type": "code",
   "execution_count": 0,
   "metadata": {
    "application/vnd.databricks.v1+cell": {
     "cellMetadata": {
      "byteLimit": 2048000,
      "rowLimit": 10000
     },
     "inputWidgets": {},
     "nuid": "043ff534-32ef-471d-bc6a-62b5bb76e4ed",
     "showTitle": false,
     "tableResultSettingsMap": {},
     "title": ""
    }
   },
   "outputs": [
    {
     "output_type": "stream",
     "name": "stdout",
     "output_type": "stream",
     "text": [
      "+---------------+---------------+--------+---------+---------------+----+--------------+--------------------+------------+---------+--------------------+--------------------+-----------+----------------+---------------+------------------+--------------+--------------+--------------+---------------+-------------+--------------+--------------+-----------------+\n|player_match_sk|playermatch_key|match_id|player_id|    player_name| dob|  batting_hand|       bowling_skill|country_name|role_desc|         player_team|        opposit_team|season_year|is_manofthematch|age_as_on_match|isplayers_team_won|batting_status|bowling_status|player_captain|opposit_captain|player_keeper|opposit_keeper|veteran_status|years_since_debut|\n+---------------+---------------+--------+---------+---------------+----+--------------+--------------------+------------+---------+--------------------+--------------------+-----------+----------------+---------------+------------------+--------------+--------------+--------------+---------------+-------------+--------------+--------------+-----------------+\n|             -1|             -1|      -1|       -1|            N/A|NULL|          NULL|                NULL|        NULL|     NULL|                NULL|                NULL|       NULL|            NULL|           NULL|              NULL|          NULL|          NULL|          NULL|           NULL|         NULL|          NULL|   Non-Veteran|             NULL|\n|          12694|           NULL|  335987|        6|       R Dravid|NULL|Right-hand bat|  Right-arm offbreak|       India|  Captain|Royal Challengers...|Kolkata Knight Ri...|       2008|            NULL|             35|              NULL|          NULL|          NULL|      R Dravid|     SC Ganguly|   MV Boucher|       WP Saha|       Veteran|               17|\n|          12695|           NULL|  335987|        7|       W Jaffer|NULL|Right-hand bat|  Right-arm offbreak|       India|   Player|Royal Challengers...|Kolkata Knight Ri...|       2008|            NULL|             30|              NULL|          NULL|          NULL|      R Dravid|     SC Ganguly|   MV Boucher|       WP Saha|   Non-Veteran|               17|\n|          12696|           NULL|  335987|        8|        V Kohli|NULL|Right-hand bat|    Right-arm medium|       India|   Player|Royal Challengers...|Kolkata Knight Ri...|       2008|            NULL|             20|              NULL|          NULL|          NULL|      R Dravid|     SC Ganguly|   MV Boucher|       WP Saha|   Non-Veteran|               17|\n|          12697|           NULL|  335987|        9|      JH Kallis|NULL|Right-hand bat|Right-arm fast-me...|South Africa|   Player|Royal Challengers...|Kolkata Knight Ri...|       2008|            NULL|             33|              NULL|          NULL|          NULL|      R Dravid|     SC Ganguly|   MV Boucher|       WP Saha|   Non-Veteran|               17|\n|          12698|           NULL|  335987|       10|       CL White|NULL|Right-hand bat|     Legbreak googly|   Australia|   Player|Royal Challengers...|Kolkata Knight Ri...|       2008|            NULL|             25|              NULL|          NULL|          NULL|      R Dravid|     SC Ganguly|   MV Boucher|       WP Saha|   Non-Veteran|               17|\n|          12699|           NULL|  335987|       11|     MV Boucher|NULL|Right-hand bat|    Right-arm medium|South Africa|   Keeper|Royal Challengers...|Kolkata Knight Ri...|       2008|            NULL|             32|              NULL|          NULL|          NULL|      R Dravid|     SC Ganguly|   MV Boucher|       WP Saha|   Non-Veteran|               17|\n|          12700|           NULL|  335987|       12|        B Akhil|NULL|Right-hand bat|Right-arm medium-...|       India|   Player|Royal Challengers...|Kolkata Knight Ri...|       2008|            NULL|             31|              NULL|          NULL|          NULL|      R Dravid|     SC Ganguly|   MV Boucher|       WP Saha|   Non-Veteran|               17|\n|          12701|           NULL|  335987|       13|      AA Noffke|NULL|Right-hand bat|Right-arm fast-me...|   Australia|   Player|Royal Challengers...|Kolkata Knight Ri...|       2008|            NULL|             31|              NULL|          NULL|          NULL|      R Dravid|     SC Ganguly|   MV Boucher|       WP Saha|   Non-Veteran|               17|\n|          12702|           NULL|  335987|       14|        P Kumar|NULL|Right-hand bat|    Right-arm medium|       India|   Player|Royal Challengers...|Kolkata Knight Ri...|       2008|            NULL|             22|              NULL|          NULL|          NULL|      R Dravid|     SC Ganguly|   MV Boucher|       WP Saha|   Non-Veteran|               17|\n|          12703|           NULL|  335987|       15|         Z Khan|NULL|Right-hand bat|Left-arm fast-medium|       India|   Player|Royal Challengers...|Kolkata Knight Ri...|       2008|            NULL|             30|              NULL|          NULL|          NULL|      R Dravid|     SC Ganguly|   MV Boucher|       WP Saha|   Non-Veteran|               17|\n|          12704|           NULL|  335987|       16|       SB Joshi|NULL| Left-hand bat|Slow left-arm ort...|       India|   Player|Royal Challengers...|Kolkata Knight Ri...|       2008|            NULL|             38|              NULL|          NULL|          NULL|      R Dravid|     SC Ganguly|   MV Boucher|       WP Saha|       Veteran|               17|\n|          12705|           NULL|  335987|        1|     SC Ganguly|NULL| Left-hand bat|    Right-arm medium|       India|  Captain|Kolkata Knight Ri...|Royal Challengers...|       2008|            NULL|             36|              NULL|          NULL|          NULL|    SC Ganguly|       R Dravid|      WP Saha|    MV Boucher|       Veteran|               17|\n|          12706|           NULL|  335987|        2|    BB McCullum|NULL|Right-hand bat|    Right-arm medium| New Zealand|   Player|Kolkata Knight Ri...|Royal Challengers...|       2008|            NULL|             27|              NULL|          NULL|          NULL|    SC Ganguly|       R Dravid|      WP Saha|    MV Boucher|   Non-Veteran|               17|\n|          12707|           NULL|  335987|        3|     RT Ponting|NULL|Right-hand bat|    Right-arm medium|   Australia|   Player|Kolkata Knight Ri...|Royal Challengers...|       2008|            NULL|             34|              NULL|          NULL|          NULL|    SC Ganguly|       R Dravid|      WP Saha|    MV Boucher|   Non-Veteran|               17|\n|          12708|           NULL|  335987|        4|      DJ Hussey|NULL|Right-hand bat|  Right-arm offbreak|   Australia|   Player|Kolkata Knight Ri...|Royal Challengers...|       2008|            NULL|             31|              NULL|          NULL|          NULL|    SC Ganguly|       R Dravid|      WP Saha|    MV Boucher|   Non-Veteran|               17|\n|          12709|           NULL|  335987|        5|Mohammad Hafeez|NULL|Right-hand bat|  Right-arm offbreak|    Pakistan|   Player|Kolkata Knight Ri...|Royal Challengers...|       2008|            NULL|             28|              NULL|          NULL|          NULL|    SC Ganguly|       R Dravid|      WP Saha|    MV Boucher|   Non-Veteran|               17|\n|          12710|           NULL|  335987|       62|        WP Saha|NULL|Right-hand bat|                 N/A|       India|   Keeper|Kolkata Knight Ri...|Royal Challengers...|       2008|            NULL|             24|              NULL|          NULL|          NULL|    SC Ganguly|       R Dravid|      WP Saha|    MV Boucher|   Non-Veteran|               17|\n|          12711|           NULL|  335987|       63|      LR Shukla|NULL|Right-hand bat|    Right-arm medium|       India|   Player|Kolkata Knight Ri...|Royal Challengers...|       2008|            NULL|             27|              NULL|          NULL|          NULL|    SC Ganguly|       R Dravid|      WP Saha|    MV Boucher|   Non-Veteran|               17|\n|          12712|           NULL|  335987|       82|     AB Agarkar|NULL|Right-hand bat|      Right-arm fast|       India|   Player|Kolkata Knight Ri...|Royal Challengers...|       2008|            NULL|             31|              NULL|          NULL|          NULL|    SC Ganguly|       R Dravid|      WP Saha|    MV Boucher|   Non-Veteran|               17|\n+---------------+---------------+--------+---------+---------------+----+--------------+--------------------+------------+---------+--------------------+--------------------+-----------+----------------+---------------+------------------+--------------+--------------+--------------+---------------+-------------+--------------+--------------+-----------------+\nonly showing top 20 rows\n"
     ]
    }
   ],
   "source": [
    "from pyspark.sql.functions import col, when, current_date, expr\n",
    "\n",
    "player_match_df = player_match_df.withColumn(\"veteran_status\", when(col(\"age_as_on_match\")>=35, \"Veteran\").otherwise(\"Non-Veteran\"))\n",
    "\n",
    "player_match_df = player_match_df.withColumn(\"years_since_debut\",(year(current_date()) - col(\"season_year\")))\n",
    "\n",
    "player_match_df.show()"
   ]
  },
  {
   "cell_type": "code",
   "execution_count": 0,
   "metadata": {
    "application/vnd.databricks.v1+cell": {
     "cellMetadata": {
      "byteLimit": 2048000,
      "rowLimit": 10000
     },
     "inputWidgets": {},
     "nuid": "5a1d57e9-8ef5-4060-a3fa-6b42a33a112f",
     "showTitle": false,
     "tableResultSettingsMap": {},
     "title": ""
    }
   },
   "outputs": [],
   "source": [
    "ball_by_ball_df.createOrReplaceTempView(\"ball_by_ball\")\n",
    "match_df.createOrReplaceTempView(\"match\")\n",
    "player_df.createOrReplaceTempView(\"player\")\n",
    "player_match_df.createOrReplaceTempView(\"player_match\")\n",
    "team_df.createOrReplaceTempView(\"team\")"
   ]
  },
  {
   "cell_type": "code",
   "execution_count": 0,
   "metadata": {
    "application/vnd.databricks.v1+cell": {
     "cellMetadata": {
      "byteLimit": 2048000,
      "rowLimit": 10000
     },
     "inputWidgets": {},
     "nuid": "58e2a10c-b3a3-41a5-9dd6-8841602b2630",
     "showTitle": false,
     "tableResultSettingsMap": {},
     "title": ""
    }
   },
   "outputs": [],
   "source": [
    "top_scoring_batsmen_per_season = spark.sql(\"\"\"\n",
    "select \n",
    "p.player_name,\n",
    "m.season_year,\n",
    "sum(b.runs_scored) as total_runs\n",
    "from \n",
    "ball_by_ball b\n",
    "join match m on m.match_id = b.match_id\n",
    "join player_match pm on m.match_id = pm.match_id AND b.striker = pm.player_id\n",
    "join player p on p.player_id = pm.player_id\n",
    "group by p.player_name, m.season_year\n",
    "order by m.season_year, total_runs desc\n",
    "\"\"\")"
   ]
  },
  {
   "cell_type": "code",
   "execution_count": 0,
   "metadata": {
    "application/vnd.databricks.v1+cell": {
     "cellMetadata": {
      "byteLimit": 2048000,
      "rowLimit": 10000
     },
     "inputWidgets": {},
     "nuid": "bbba89c3-68ce-4b38-b217-ca560cca2ed2",
     "showTitle": false,
     "tableResultSettingsMap": {},
     "title": ""
    }
   },
   "outputs": [
    {
     "output_type": "stream",
     "name": "stdout",
     "output_type": "stream",
     "text": [
      "+-------------+-----------+----------+\n|  player_name|season_year|total_runs|\n+-------------+-----------+----------+\n|      semarsh|       2008|       614|\n|     ggambhir|       2008|       532|\n| stjayasuriya|       2008|       508|\n|     srwatson|       2008|       463|\n|      gcsmith|       2008|       437|\n|  acgilchrist|       2008|       431|\n|     ykpathan|       2008|       430|\n|      skraina|       2008|       420|\n|      msdhoni|       2008|       414|\n|      vsehwag|       2008|       399|\n|     rgsharma|       2008|       399|\n|      rdravid|       2008|       370|\n|    scganguly|       2008|       349|\n|      sdhawan|       2008|       340|\n| kcsangakkara|       2008|       319|\n|     djhussey|       2008|       318|\n|    rvuthappa|       2008|       316|\n|   saasnodkar|       2008|       311|\n|  yuvrajsingh|       2008|       299|\n|      papatel|       2008|       297|\n|yvenugopalrao|       2008|       283|\n|     jamorkel|       2008|       235|\n|    mvboucher|       2008|       225|\n|      jrhopes|       2008|       221|\n|      amnayar|       2008|       205|\n|     jhkallis|       2008|       199|\n|   salmanbutt|       2008|       192|\n|   sbadrinath|       2008|       192|\n|    spfleming|       2008|       192|\n|   bbmccullum|       2008|       188|\n+-------------+-----------+----------+\nonly showing top 30 rows\n"
     ]
    }
   ],
   "source": [
    "top_scoring_batsmen_per_season.show(30)"
   ]
  },
  {
   "cell_type": "code",
   "execution_count": 0,
   "metadata": {
    "application/vnd.databricks.v1+cell": {
     "cellMetadata": {
      "byteLimit": 2048000,
      "rowLimit": 10000
     },
     "inputWidgets": {},
     "nuid": "11be183a-38c0-41b9-8f48-6bf8ecd7f4de",
     "showTitle": false,
     "tableResultSettingsMap": {},
     "title": ""
    }
   },
   "outputs": [
    {
     "output_type": "stream",
     "name": "stdout",
     "output_type": "stream",
     "text": [
      "+-------------+------------------+-------------+\n|  player_name| avg_runs_per_ball|total_wickets|\n+-------------+------------------+-------------+\n|    smharwood|0.3333333333333333|            0|\n|    ankitsoni|               0.5|            0|\n|     grnapier|               0.5|            0|\n|      ajfinch|               0.5|            0|\n|       azampa|               0.5|            0|\n|    aveshkhan|               0.5|            0|\n|      nbsingh|0.5833333333333334|            0|\n|    agmurtaza|0.6538461538461539|            0|\n|     sbbangar|0.6666666666666666|            0|\n|     ddupreez|0.6666666666666666|            0|\n|       sgopal|0.6666666666666666|            0|\n|    fhedwards|0.6923076923076923|            0|\n|      akumble|0.7685185185185185|            0|\n|      umargul|0.7777777777777778|            0|\n|jsyedmohammad|0.7777777777777778|            0|\n|  kppietersen|0.7777777777777778|            0|\n| lacarseldine|0.8333333333333334|            0|\n|   rjpeterson|0.8333333333333334|            0|\n|     ssmundhe|0.8333333333333334|            0|\n|      tlsuman|0.8333333333333334|            0|\n+-------------+------------------+-------------+\nonly showing top 20 rows\n"
     ]
    }
   ],
   "source": [
    "\n",
    "economical_bowlers_powerplay = spark.sql(\"\"\"\n",
    "SELECT \n",
    "p.player_name, \n",
    "AVG(b.runs_scored) AS avg_runs_per_ball, \n",
    "COUNT(b.bowler_wicket) AS total_wickets\n",
    "FROM ball_by_ball b\n",
    "JOIN player_match pm ON b.match_id = pm.match_id AND b.bowler = pm.player_id\n",
    "JOIN player p ON pm.player_id = p.player_id\n",
    "WHERE b.over_id <= 6\n",
    "GROUP BY p.player_name\n",
    "HAVING COUNT(*) >= 1\n",
    "ORDER BY avg_runs_per_ball, total_wickets DESC\n",
    "\"\"\")\n",
    "economical_bowlers_powerplay.show()"
   ]
  },
  {
   "cell_type": "code",
   "execution_count": 0,
   "metadata": {
    "application/vnd.databricks.v1+cell": {
     "cellMetadata": {
      "byteLimit": 2048000,
      "rowLimit": 10000
     },
     "inputWidgets": {},
     "nuid": "280e0454-481f-4a65-a540-1348cfd670ec",
     "showTitle": false,
     "tableResultSettingsMap": {},
     "title": ""
    }
   },
   "outputs": [
    {
     "output_type": "display_data",
     "data": {
      "image/png": "[encoded data removed]",
      "text/plain": [
       "<Figure size 1200x800 with 1 Axes>"
      ]
     },
     "metadata": {},
     "output_type": "display_data"
    }
   ],
   "source": [
    "#Visualization\n",
    "#Assuming 'economical_bowlers_powerplay' is already executed and available as a Spark Dataframe\n",
    "economical_bowlers_pd = economical_bowlers_powerplay.toPandas()\n",
    "\n",
    "#Visualizing using Matplotlib\n",
    "plt.figure(figsize=(12,8))\n",
    "#Limiting to top 10 for clarity in the plot\n",
    "top_economical_bowlers = economical_bowlers_pd.nsmallest(10,'avg_runs_per_ball')\n",
    "plt.bar(top_economical_bowlers['player_name'], top_economical_bowlers['avg_runs_per_ball'],color='skyblue')\n",
    "plt.xlabel('Bowler Name')\n",
    "plt.ylabel('Average Runs per Ball')\n",
    "plt.title('Most Economical Bowlers in Powerplay Overs (Top 10)')\n",
    "plt.xticks(rotation=45)\n",
    "plt.tight_layout()\n",
    "plt.show()"
   ]
  },
  {
   "cell_type": "code",
   "execution_count": 0,
   "metadata": {
    "application/vnd.databricks.v1+cell": {
     "cellMetadata": {},
     "inputWidgets": {},
     "nuid": "1097f88f-1db2-4b35-9f22-8727f25f4383",
     "showTitle": false,
     "tableResultSettingsMap": {},
     "title": ""
    }
   },
   "outputs": [],
   "source": []
  }
 ],
 "metadata": {
  "application/vnd.databricks.v1+notebook": {
   "computePreferences": null,
   "dashboards": [],
   "environmentMetadata": {
    "base_environment": "",
    "client": "1"
   },
   "language": "python",
   "notebookMetadata": {
    "pythonIndentUnit": 4
   },
   "notebookName": "IPL-Database-Analysis 2024-12-31 16:01:51",
   "widgets": {}
  },
  "language_info": {
   "name": "python"
  }
 },
 "nbformat": 4,
 "nbformat_minor": 0
}